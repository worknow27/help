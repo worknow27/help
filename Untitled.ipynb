{
 "cells": [
  {
   "cell_type": "code",
   "execution_count": null,
   "metadata": {},
   "outputs": [],
   "source": [
    "#this chatbot will allow tenants to choose which excercise classes they can take and give them informaiton of availability\n",
    "# this may be come a survey just to ask their favorite offered class\n",
    "#this funciton is defines the classes avaialbe\n",
    "def function ():\n",
    "    print ('Yoga')\n",
    "    print ('Zumba')\n",
    "    print ('kickboxing')\n",
    "print ('I have never taken this class.')\n",
    "\n"
   ]
  },
  {
   "cell_type": "code",
   "execution_count": null,
   "metadata": {},
   "outputs": [],
   "source": [
    "print ('Yoga')"
   ]
  },
  {
   "cell_type": "code",
   "execution_count": null,
   "metadata": {},
   "outputs": [],
   "source": [
    "Amenities = ['Yoga', 'Zumba','Kickboxing']\n",
    "#show the value stored in Amenities then print\n",
    "print (Amenities)\n",
    "\n",
    "             "
   ]
  },
  {
   "cell_type": "code",
   "execution_count": null,
   "metadata": {},
   "outputs": [],
   "source": [
    "#print out yoga from the list use zero as it is the first item listed on the list\n",
    "print (Amenities [0])"
   ]
  },
  {
   "cell_type": "code",
   "execution_count": null,
   "metadata": {},
   "outputs": [],
   "source": [
    "#create an input function for name and unit number\n",
    "name = input (\"Please Enter Your Name :\")\n",
    "print ('Hello,' + name +,')\n",
    "       \n",
    "Unit_Number = input(int(Unit_Number :\"))\n",
    "print ('Your unit number is' + Unit_Number)\n"
   ]
  },
  {
   "cell_type": "code",
   "execution_count": null,
   "metadata": {},
   "outputs": [],
   "source": [
    "#prompt = \"Please tell us about yourself\"\n",
    "#prompt +=\"/n Please provide your full name\"\n",
    "\n",
    "print (\"Please enter your full name.\")\n",
    "name = input ()\n",
    "print (\"Hello \" + name +\",\" \"\"  + \"  Please enter your unit number.\")\n",
    "unit_number = \"My unit number is:\"  + input()\n",
    "\n",
    "print (\"Thank you for your interest in our free welness classes.\")\n",
    "\n",
    "#unit_number = (prompt)\n",
    "# = \"What is your unit number?\"\n",
    "\n",
    "print (\"Please select your welness class choice from Yoga, Zumba or Kickboxing\")\n",
    "\n",
    "print (\"What program would you like to join?\" )\n",
    "program = input()\n",
    "Amenities = ['Yoga', 'Zumba', 'Kickboxing']\n",
    "if selection == [selection,01]:\n",
    "                print (\"You have been enrolled in the \"Amenities.title() +'. \")\n",
    "                print (\"We will send  you an email with class details\")\n",
    "                print (\"Let us know if you have any questions.\")\n",
    "        "
   ]
  },
  {
   "cell_type": "code",
   "execution_count": null,
   "metadata": {},
   "outputs": [],
   "source": [
    "#program = input()\n",
    "\n",
    "answer = input()\n",
    "       \n",
    "if   answer == \"Yoga\":\n",
    "                message =  (\"You have been enrolled in the\" + selection[0].title() + \".\")\n",
    "                print(message)\n",
    "                print (\"We will send  you an email with class details\")\n",
    "                print (\"Let us know if you have any questions.\")\n",
    "        \n",
    "#elif answer != Yoga:\n",
    "           # print (\"Your remaining choices are the Zumba or Kickboxing class\")\n",
    "    \n",
    "answer = input()\n",
    "if answer == Zumba:\n",
    "            print (\"You have been enrolled in the Zumba class.\")\n",
    "            print (\"We will send  you an email with class details\")\n",
    "            print (\"Let us know if you have any questions.\")\n",
    "               \n",
    "elif answer == Kickboxing:\n",
    "            answer = input()\n",
    "            print (\"You have been enrolled in the Kickboxing class.\")\n",
    "            print(\"We will send  you an email with class details\")\n",
    "            print (\"Let us know if you have any questions.\")\n",
    "else:                           \n",
    "print (\"All classes are full, try your luck next time.\")\n",
    "      \n",
    "      "
   ]
  },
  {
   "cell_type": "code",
   "execution_count": null,
   "metadata": {},
   "outputs": [],
   "source": [
    "y= text.replace (\"class, myclass\")\n",
    "#help is this what we are supposed to do for the Eliza quesiton????"
   ]
  },
  {
   "cell_type": "code",
   "execution_count": null,
   "metadata": {},
   "outputs": [],
   "source": [
    "x = text.replace (\"you\", \"i\")\n",
    "print (x)\n",
    "#help"
   ]
  },
  {
   "cell_type": "code",
   "execution_count": null,
   "metadata": {},
   "outputs": [],
   "source": []
  },
  {
   "cell_type": "code",
   "execution_count": null,
   "metadata": {},
   "outputs": [],
   "source": []
  }
 ],
 "metadata": {
  "kernelspec": {
   "display_name": "Python 3",
   "language": "python",
   "name": "python3"
  },
  "language_info": {
   "codemirror_mode": {
    "name": "ipython",
    "version": 3
   },
   "file_extension": ".py",
   "mimetype": "text/x-python",
   "name": "python",
   "nbconvert_exporter": "python",
   "pygments_lexer": "ipython3",
   "version": "3.7.6"
  }
 },
 "nbformat": 4,
 "nbformat_minor": 4
}
